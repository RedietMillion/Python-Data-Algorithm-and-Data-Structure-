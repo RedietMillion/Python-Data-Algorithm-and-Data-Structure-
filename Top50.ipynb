{
 "cells": [
  {
   "cell_type": "markdown",
   "id": "0d4af9a6",
   "metadata": {},
   "source": [
    "## Array\n",
    "#### 1. Find the missing number in a given integer array"
   ]
  },
  {
   "cell_type": "code",
   "execution_count": null,
   "id": "64db88c5",
   "metadata": {},
   "outputs": [],
   "source": [
    "def find_missing_number(arr):\n",
    "    n = len(arr)\n",
    "    total_sum = (n + 1)*(n+2)//2 # sum of integer from 1 to n+1\n",
    "    array_sum = sum(arr)\n",
    "    missing_num = total_sum - array_sum\n",
    "    \n",
    "    return missing_num\n",
    "\n",
    "arr = [1, 2, 4, 5, 6, 7, 8, 9, 10]\n",
    "print(\"The number missing from the arrary is: \", find_missing_number(arr))"
   ]
  },
  {
   "cell_type": "markdown",
   "id": "493e6424",
   "metadata": {},
   "source": [
    "#### 2. Find duplicate number in a given integer array "
   ]
  },
  {
   "cell_type": "code",
   "execution_count": null,
   "id": "95e4dc7d",
   "metadata": {},
   "outputs": [],
   "source": [
    "def find_duplicate_numbers(arr):\n",
    "    duplicate = []\n",
    "    count = {}\n",
    "    for num in arr:\n",
    "        if num in count:\n",
    "            count[num] +=1\n",
    "        else:\n",
    "            count[num] = 1\n",
    "            \n",
    "    for num, freq in count.items():\n",
    "        if freq > 1:\n",
    "            duplicate.append(num)\n",
    "    \n",
    "    return duplicate\n",
    "\n",
    "arr = [1,2, 4 ,2, 500, 9 ,3, 500, 300, 2]\n",
    "print(\"Duplicated element in the array is: \", find_duplicate_numbers(arr))"
   ]
  },
  {
   "cell_type": "markdown",
   "id": "6886c9e5",
   "metadata": {},
   "source": [
    "#### 3. Find the largest and smallest number in an unsorted integer array"
   ]
  },
  {
   "cell_type": "code",
   "execution_count": null,
   "id": "4226ca8c",
   "metadata": {},
   "outputs": [],
   "source": [
    "def find_larg_small(arr):\n",
    "    larg = arr[0]\n",
    "    small = arr[0]\n",
    "    for num in arr:\n",
    "        if num < small:\n",
    "            small = num\n",
    "        elif num > larg:\n",
    "            larg = num\n",
    "    return larg, small\n",
    "\n",
    "arr = [4, 2, 9, 1, 6, 5, 100]\n",
    "larg, small = find_larg_small(arr)\n",
    "print(f\"The largest number is {larg} and the smallest is {small} \")"
   ]
  },
  {
   "cell_type": "markdown",
   "id": "9ebef275",
   "metadata": {},
   "source": [
    "#### 4. How do you find all pairs of an integer array whose sum is equal to a given number?"
   ]
  },
  {
   "cell_type": "code",
   "execution_count": null,
   "id": "bb8623d8",
   "metadata": {},
   "outputs": [],
   "source": [
    "def sum_pair(arr, target):\n",
    "    paired = []\n",
    "    for i in range(len(arr)):\n",
    "        for j in range(i+1, len(arr)):\n",
    "            if (arr[i] + arr[j]) == target :\n",
    "                paired.append((arr[i], arr[j]))\n",
    "    return paired \n",
    "\n",
    "arr = [1,2, 3, 4, 5,6,7, 9]\n",
    "target = 9\n",
    "print (f\"Pairs of number whose sum is {target}\", sum_pair(arr, target))"
   ]
  },
  {
   "cell_type": "markdown",
   "id": "cc80f2a5",
   "metadata": {},
   "source": [
    "#### 5.  Find duplicate numbers in an array if it contains multiple duplicates"
   ]
  },
  {
   "cell_type": "code",
   "execution_count": null,
   "id": "5804e3f0",
   "metadata": {},
   "outputs": [],
   "source": [
    "def find_duplicates(arr):\n",
    "    duplicates = []\n",
    "    encountered = set()\n",
    "    \n",
    "    for num in arr:\n",
    "        if num in encountered:\n",
    "            duplicates.append(num)\n",
    "        else:\n",
    "            encountered.add(num)\n",
    "    return duplicates\n",
    "\n",
    "numbers = [1,1, 2, 3, 4, 4, 5, 6, 6,6, 7, 8, 9, 9,9]\n",
    "result = find_duplicates(numbers)\n",
    "print(result)\n",
    "    "
   ]
  },
  {
   "cell_type": "markdown",
   "id": "68d6abe4",
   "metadata": {},
   "source": [
    "#### 6. Remove duplicate numbers from an array"
   ]
  },
  {
   "cell_type": "code",
   "execution_count": null,
   "id": "5df7cb70",
   "metadata": {},
   "outputs": [],
   "source": [
    "# Method 1 with set\n",
    "def remove_duplicates_withset(arr):\n",
    "    return list(set(arr))\n",
    "\n",
    "# Method 2 without set\n",
    "def remove_duplicates(arr):\n",
    "    unique_arr = []\n",
    "    [unique_arr.append(x) for x in arr if x not in unique_arr]\n",
    "    return unique_arr\n",
    "\n",
    "# test\n",
    "arr = [1,2,3,4,3,2,1]\n",
    "print(\"With set :\", remove_duplicates_withset(arr))\n",
    "print(\"Without set: \", remove_duplicates(arr))"
   ]
  },
  {
   "cell_type": "markdown",
   "id": "c07199f4",
   "metadata": {},
   "source": [
    "#### 7. An integer array sorted in place using the quicksort algorirthm"
   ]
  },
  {
   "cell_type": "code",
   "execution_count": null,
   "id": "5cdd43c1",
   "metadata": {},
   "outputs": [],
   "source": [
    "def quicksort(arr, low, high):\n",
    "    if low < high:\n",
    "        pivot_index = partition(arr, low, high)\n",
    "        quicksort(arr, low, pivot_index - 1)\n",
    "        quicksort(arr, pivot_index + 1, high)\n",
    "\n",
    "def partition(arr, low, high):\n",
    "    pivot = arr[high]\n",
    "    i = low - 1\n",
    "\n",
    "    for j in range(low, high):\n",
    "        if arr[j] <= pivot:\n",
    "            i += 1\n",
    "            arr[i], arr[j] = arr[j], arr[i]\n",
    "\n",
    "    arr[i + 1], arr[high] = arr[high], arr[i + 1]\n",
    "    return i + 1\n",
    "\n",
    "# Example usage\n",
    "arr = [9, 5, 1, 8, 3, 7, 2, 6, 4]\n",
    "quicksort(arr, 0, len(arr) - 1)\n",
    "print(arr)"
   ]
  },
  {
   "cell_type": "markdown",
   "id": "3f25c775",
   "metadata": {},
   "source": []
  },
  {
   "cell_type": "markdown",
   "id": "b2465840",
   "metadata": {},
   "source": [
    "#### 8. Python program that removes duplicates from an array in place"
   ]
  },
  {
   "cell_type": "code",
   "execution_count": null,
   "id": "d7c4f0f5",
   "metadata": {},
   "outputs": [],
   "source": [
    "def remove_duplicates(arr):\n",
    "    # convert the array into a set to remove duplicates\n",
    "    arr_set = set(arr)\n",
    "    # Clear the original array \n",
    "    arr.clear()\n",
    "    # Convert the set back to an array \n",
    "    arr.extend(arr_set)\n",
    "\n",
    "# Example usage\n",
    "numbers = [1, 2, 3, 4, 3, 2, 1, 5, 6, 5, 7]\n",
    "print(\"Original array:\", numbers)\n",
    "remove_duplicates(numbers)\n",
    "print(\"Array after removing duplicates:\", numbers)"
   ]
  },
  {
   "cell_type": "markdown",
   "id": "6f3d63ab",
   "metadata": {},
   "source": [
    "#### 9. Python program to reverse an array in place"
   ]
  },
  {
   "cell_type": "code",
   "execution_count": null,
   "id": "bed18d47",
   "metadata": {},
   "outputs": [],
   "source": [
    "def reverse_array(arr):\n",
    "    n = len(arr)\n",
    "    \n",
    "    for i in range(n//2):\n",
    "        j = n-i-1\n",
    "        arr[i], arr[j] = arr[j], arr[i]\n",
    "    return arr\n",
    "                \n",
    "numbers = [1, 2, 3, 4, 3, 2, 1, 5, 6, 5, 7]\n",
    "reverse_array(numbers)"
   ]
  },
  {
   "cell_type": "markdown",
   "id": "0513ed68",
   "metadata": {},
   "source": [
    "#### 10  Python program that removes duplicates from an array in place without using any library"
   ]
  },
  {
   "cell_type": "code",
   "execution_count": null,
   "id": "05bca2af",
   "metadata": {},
   "outputs": [],
   "source": [
    "def remove_duplicates(arr):\n",
    "    # Get the length of the original array\n",
    "    n = len(arr)\n",
    "    \n",
    "    # Check each element in the array\n",
    "    i = 0\n",
    "    while i < n:\n",
    "        j = i + 1\n",
    "        while j < n:\n",
    "            # If duplicate element is found, shift elements to the left\n",
    "            if arr[i] == arr[j]:\n",
    "                for k in range(j, n - 1):\n",
    "                    arr[k] = arr[k + 1]\n",
    "                n -= 1\n",
    "            else:\n",
    "                j += 1\n",
    "        i += 1\n",
    "    \n",
    "    # Truncate the array to remove the duplicates\n",
    "    arr[:] = arr[:n]\n",
    "\n",
    "# Example usage\n",
    "numbers = [1, 2, 3, 4, 3, 2, 1, 5, 6, 5, 7]\n",
    "print(\"Original array:\", numbers)\n",
    "\n",
    "remove_duplicates(numbers)\n",
    "print(\"Array after removing duplicates:\", numbers)"
   ]
  },
  {
   "cell_type": "markdown",
   "id": "4288899b",
   "metadata": {},
   "source": [
    "# Linked List \n"
   ]
  },
  {
   "cell_type": "markdown",
   "id": "f112f2d4",
   "metadata": {},
   "source": [
    "#### 11. How do you find the middle element of a singly linked list in one pass?"
   ]
  },
  {
   "cell_type": "code",
   "execution_count": 1,
   "id": "a3006a3d",
   "metadata": {},
   "outputs": [
    {
     "name": "stdout",
     "output_type": "stream",
     "text": [
      "Middle element: 3\n"
     ]
    }
   ],
   "source": [
    "# Define the ListNode class\n",
    "class ListNode:\n",
    "    def __init__(self, val=0, next=None):\n",
    "        self.val = val\n",
    "        self.next = next\n",
    "\n",
    "# Function to find the middle element\n",
    "def find_middle(head):\n",
    "    slow_ptr = head\n",
    "    fast_ptr = head\n",
    "\n",
    "    while fast_ptr and fast_ptr.next:\n",
    "        slow_ptr = slow_ptr.next\n",
    "        fast_ptr = fast_ptr.next.next\n",
    "\n",
    "    return slow_ptr\n",
    "\n",
    "\n",
    "# Create a linked list: 1 -> 2 -> 3 -> 4 -> 5 -> None\n",
    "head = ListNode(1)\n",
    "node2 = ListNode(2)\n",
    "node3 = ListNode(3)\n",
    "node4 = ListNode(4)\n",
    "node5 = ListNode(5)\n",
    "\n",
    "head.next = node2\n",
    "node2.next = node3\n",
    "node3.next = node4\n",
    "node4.next = node5\n",
    "\n",
    "# Find the middle element\n",
    "middle_node = find_middle(head)\n",
    "middle_element = middle_node.val\n",
    "print(\"Middle element:\", middle_element)"
   ]
  },
  {
   "cell_type": "code",
   "execution_count": null,
   "id": "61349639",
   "metadata": {},
   "outputs": [],
   "source": []
  }
 ],
 "metadata": {
  "kernelspec": {
   "display_name": "Python 3.10 (tensorflow)",
   "language": "python",
   "name": "tensorflow"
  },
  "language_info": {
   "codemirror_mode": {
    "name": "ipython",
    "version": 3
   },
   "file_extension": ".py",
   "mimetype": "text/x-python",
   "name": "python",
   "nbconvert_exporter": "python",
   "pygments_lexer": "ipython3",
   "version": "3.10.10"
  }
 },
 "nbformat": 4,
 "nbformat_minor": 5
}
