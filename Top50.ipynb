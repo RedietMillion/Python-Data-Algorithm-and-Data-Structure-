{
 "cells": [
  {
   "cell_type": "markdown",
   "id": "0d4af9a6",
   "metadata": {},
   "source": [
    "## Array\n",
    "#### 1. Find the missing number in a given integer array"
   ]
  },
  {
   "cell_type": "code",
   "execution_count": 3,
   "id": "64db88c5",
   "metadata": {},
   "outputs": [
    {
     "name": "stdout",
     "output_type": "stream",
     "text": [
      "The number missing from the arrary is:  3\n"
     ]
    }
   ],
   "source": [
    "def find_missing_number(arr):\n",
    "    n = len(arr)\n",
    "    total_sum = (n + 1)*(n+2)//2 # sum of integer from 1 to n+1\n",
    "    array_sum = sum(arr)\n",
    "    missing_num = total_sum - array_sum\n",
    "    \n",
    "    return missing_num\n",
    "\n",
    "arr = [1, 2, 4, 5, 6, 7, 8, 9, 10]\n",
    "print(\"The number missing from the arrary is: \", find_missing_number(arr))"
   ]
  },
  {
   "cell_type": "markdown",
   "id": "493e6424",
   "metadata": {},
   "source": [
    "#### 2. Find duplicate number in a given integer array "
   ]
  },
  {
   "cell_type": "code",
   "execution_count": 5,
   "id": "95e4dc7d",
   "metadata": {},
   "outputs": [
    {
     "name": "stdout",
     "output_type": "stream",
     "text": [
      "Duplicated element in the array is:  [2, 500]\n"
     ]
    }
   ],
   "source": [
    "def find_duplicate_numbers(arr):\n",
    "    duplicate = []\n",
    "    count = {}\n",
    "    for num in arr:\n",
    "        if num in count:\n",
    "            count[num] +=1\n",
    "        else:\n",
    "            count[num] = 1\n",
    "            \n",
    "    for num, freq in count.items():\n",
    "        if freq > 1:\n",
    "            duplicate.append(num)\n",
    "    \n",
    "    return duplicate\n",
    "\n",
    "arr = [1,2, 4 ,2, 500, 9 ,3, 500, 300, 2]\n",
    "print(\"Duplicated element in the array is: \", find_duplicate_numbers(arr))"
   ]
  },
  {
   "cell_type": "markdown",
   "id": "6886c9e5",
   "metadata": {},
   "source": [
    "#### 3. Find the largest and smallest number in an unsorted integer array"
   ]
  },
  {
   "cell_type": "code",
   "execution_count": 3,
   "id": "4226ca8c",
   "metadata": {},
   "outputs": [
    {
     "name": "stdout",
     "output_type": "stream",
     "text": [
      "The largest number is 100 and the smallest is 1 \n"
     ]
    }
   ],
   "source": [
    "def find_larg_small(arr):\n",
    "    larg = arr[0]\n",
    "    small = arr[0]\n",
    "    for num in arr:\n",
    "        if num < small:\n",
    "            small = num\n",
    "        elif num > larg:\n",
    "            larg = num\n",
    "    return larg, small\n",
    "\n",
    "arr = [4, 2, 9, 1, 6, 5, 100]\n",
    "larg, small = find_larg_small(arr)\n",
    "print(f\"The largest number is {larg} and the smallest is {small} \")"
   ]
  },
  {
   "cell_type": "markdown",
   "id": "9ebef275",
   "metadata": {},
   "source": [
    "#### 4. How do you find all pairs of an integer array whose sum is equal to a given number?"
   ]
  },
  {
   "cell_type": "code",
   "execution_count": 4,
   "id": "bb8623d8",
   "metadata": {},
   "outputs": [
    {
     "name": "stdout",
     "output_type": "stream",
     "text": [
      "Pairs of number whose sum is 9 [(2, 7), (3, 6), (4, 5)]\n"
     ]
    }
   ],
   "source": [
    "def sum_pair(arr, target):\n",
    "    paired = []\n",
    "    for i in range(len(arr)):\n",
    "        for j in range(i+1, len(arr)):\n",
    "            if (arr[i] + arr[j]) == target :\n",
    "                paired.append((arr[i], arr[j]))\n",
    "    return paired \n",
    "\n",
    "arr = [1,2, 3, 4, 5,6,7, 9]\n",
    "target = 9\n",
    "print (f\"Pairs of number whose sum is {target}\", sum_pair(arr, target))"
   ]
  },
  {
   "cell_type": "markdown",
   "id": "cc80f2a5",
   "metadata": {},
   "source": [
    "#### 5.  Find duplicate numbers in an array if it contains multiple duplicates"
   ]
  },
  {
   "cell_type": "code",
   "execution_count": 10,
   "id": "5804e3f0",
   "metadata": {},
   "outputs": [
    {
     "name": "stdout",
     "output_type": "stream",
     "text": [
      "[1, 4, 6, 6, 9, 9]\n"
     ]
    }
   ],
   "source": [
    "def find_duplicates(arr):\n",
    "    duplicates = []\n",
    "    encountered = set()\n",
    "    \n",
    "    for num in arr:\n",
    "        if num in encountered:\n",
    "            duplicates.append(num)\n",
    "        else:\n",
    "            encountered.add(num)\n",
    "    return duplicates\n",
    "\n",
    "numbers = [1,1, 2, 3, 4, 4, 5, 6, 6,6, 7, 8, 9, 9,9]\n",
    "result = find_duplicates(numbers)\n",
    "print(result)\n",
    "    "
   ]
  },
  {
   "cell_type": "code",
   "execution_count": null,
   "id": "d5e4c9e5",
   "metadata": {},
   "outputs": [],
   "source": []
  }
 ],
 "metadata": {
  "kernelspec": {
   "display_name": "Python 3.10 (tensorflow)",
   "language": "python",
   "name": "tensorflow"
  },
  "language_info": {
   "codemirror_mode": {
    "name": "ipython",
    "version": 3
   },
   "file_extension": ".py",
   "mimetype": "text/x-python",
   "name": "python",
   "nbconvert_exporter": "python",
   "pygments_lexer": "ipython3",
   "version": "3.10.10"
  }
 },
 "nbformat": 4,
 "nbformat_minor": 5
}
