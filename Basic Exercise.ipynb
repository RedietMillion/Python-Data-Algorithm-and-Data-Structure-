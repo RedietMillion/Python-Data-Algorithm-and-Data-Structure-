{
 "cells": [
  {
   "cell_type": "markdown",
   "id": "a8607495",
   "metadata": {},
   "source": [
    "### Problems\n",
    "\n",
    "1. Swap the number without using third varible\n",
    "2. Write a Program to extract each digit from an integer in the reverse order\n",
    "3. Write a program that will give you the sum of 3 digits\n",
    "4. Write a program that will reverse a four digit number.Also it checks whether the reverse is true\n",
    "5. Write a program to find the euclidean distance between two coordinates\n",
    "6. Write a program that will tell whether the given number is divisible by 3 & 6.\n",
    "7. Write a program that will take three digits from the user and add the square of each digit\n",
    "8. Write a program that will check whether the number is armstrong number or not.\n",
    "9. Write a program that will take user input of (4 digits number) and check whether the number is narcissist number or not."
   ]
  },
  {
   "cell_type": "markdown",
   "id": "ce856e49",
   "metadata": {},
   "source": [
    "### Solutions\n",
    "1. "
   ]
  },
  {
   "cell_type": "code",
   "execution_count": 3,
   "id": "c2fb3ecd",
   "metadata": {},
   "outputs": [
    {
     "name": "stdout",
     "output_type": "stream",
     "text": [
      "Enter the first no.8\n",
      "Enter the second no.6\n",
      "8 6\n",
      "6 8\n"
     ]
    }
   ],
   "source": [
    "# 1. Swap the number without using third varible\n",
    "# Method 1\n",
    "x = int(input(\"Enter the first no.\"))\n",
    "y = int(input(\"Enter the second no.\"))\n",
    "\n",
    "print(x, y)\n",
    "x = x+y\n",
    "y = x-y\n",
    "x = x-y\n",
    "print(x, y)"
   ]
  },
  {
   "cell_type": "code",
   "execution_count": 4,
   "id": "0875ab3a",
   "metadata": {},
   "outputs": [
    {
     "name": "stdout",
     "output_type": "stream",
     "text": [
      "Before swapping:\n",
      "a =  10\n",
      "b =  20\n",
      "After swapping:\n",
      "a =  20\n",
      "b =  10\n"
     ]
    }
   ],
   "source": [
    "# Method 2: using function \n",
    "def swap_numbers(a, b):\n",
    "    \"\"\" Swaps the values of two variables without using a third variable\"\"\"\n",
    "    a += b\n",
    "    b = a-b\n",
    "    a -= b\n",
    "    \n",
    "    return a, b\n",
    "\n",
    "if __name__ == \"__main__\":\n",
    "    a = 10\n",
    "    b = 20\n",
    "    \n",
    "    print(\"Before swapping:\")\n",
    "    print(\"a = \", a)\n",
    "    print(\"b = \", b)\n",
    "    a, b = swap_numbers(a,b)\n",
    "    print(\"After swapping:\")\n",
    "    print(\"a = \", a)\n",
    "    print(\"b = \", b)"
   ]
  },
  {
   "cell_type": "markdown",
   "id": "5ad64be4",
   "metadata": {},
   "source": [
    "### 2 Write a Program to extract each digit from an integer in the reverse order\n"
   ]
  },
  {
   "cell_type": "code",
   "execution_count": 9,
   "id": "619a0ac2",
   "metadata": {},
   "outputs": [
    {
     "name": "stdout",
     "output_type": "stream",
     "text": [
      "Enter the number:4561\n",
      "4561 <class 'int'>\n",
      "1654 <class 'int'>\n"
     ]
    }
   ],
   "source": [
    "# Method 1\n",
    "n = int(input(\"Enter the number:\"))\n",
    "rev = int(str(n)[::-1])\n",
    "\n",
    "print(n, type(n))\n",
    "print(rev, type(rev))"
   ]
  },
  {
   "cell_type": "code",
   "execution_count": 19,
   "id": "665e56e0",
   "metadata": {},
   "outputs": [
    {
     "name": "stdout",
     "output_type": "stream",
     "text": [
      "orginal number: 12345\n",
      "reversed number 54321\n"
     ]
    }
   ],
   "source": [
    "# Method 2\n",
    "def reverse_digit(number):\n",
    "    \"\"\" Extract each digit from an integer in the reverse order.\n",
    "    Args:\n",
    "    number: The integer to extract the digits from\n",
    "    Return:\n",
    "    A list of the digits in the integer, in the reverse order\n",
    "    \n",
    "    \"\"\"\n",
    "    digits = \"\"\n",
    "    while number > 0:\n",
    "        digit = number % 10 \n",
    "        digits = digits + str(digit) \n",
    "        number//= 10\n",
    "    return digits \n",
    "\n",
    "if __name__==\"__main__\":\n",
    "    number = 12345\n",
    "    digits = reverse_digit(number)\n",
    "    print('orginal number:', number)\n",
    "    print(\"reversed number\",digits)"
   ]
  },
  {
   "cell_type": "markdown",
   "id": "2da8855d",
   "metadata": {},
   "source": [
    "### 3. Write a program that will give you the sum of 3 digits"
   ]
  },
  {
   "cell_type": "code",
   "execution_count": 28,
   "id": "2e60e81d",
   "metadata": {},
   "outputs": [
    {
     "name": "stdout",
     "output_type": "stream",
     "text": [
      "Enter the three digits123\n",
      "6\n"
     ]
    }
   ],
   "source": [
    "# Method 1\n",
    "x = int(input(\"Enter the three digits\"))\n",
    "\n",
    "# Get the last digit using modulo\n",
    "a = x % 10\n",
    "# using integerdivision by 10 to get the last two dgits \n",
    "num = x//10\n",
    "b = num % 10 \n",
    "c = num//10\n",
    "\n",
    "print(a+b+c)\n"
   ]
  },
  {
   "cell_type": "code",
   "execution_count": 33,
   "id": "47a3d817",
   "metadata": {},
   "outputs": [
    {
     "name": "stdout",
     "output_type": "stream",
     "text": [
      "6\n"
     ]
    }
   ],
   "source": [
    "# Method 2: using function\n",
    "def sum_of_three_digits(number):\n",
    "    \"\"\" Calculate the sum of three digits in a number.\n",
    "    Args:\n",
    "        number: The number to calculate the sum of the digits from\n",
    "    Returns: \n",
    "        The sum of the digits in the number\n",
    "    \"\"\"\n",
    "    hundreds_digit = number // 100\n",
    "    tens_digits = number % 100 // 10 \n",
    "    units_digit = number % 10\n",
    "    sum_of_digits = hundreds_digit + tens_digits + units_digit\n",
    "    return sum_of_digits\n",
    "\n",
    "if __name__==\"__main__\":\n",
    "    \n",
    "    number = 321\n",
    "    print(sum_of_three_digits(number))"
   ]
  },
  {
   "cell_type": "markdown",
   "id": "be008b67",
   "metadata": {},
   "source": [
    "#### 4. Write a program that will reverse a four digit number.Also it checks whether the reverse is true"
   ]
  },
  {
   "cell_type": "code",
   "execution_count": 34,
   "id": "52625e44",
   "metadata": {},
   "outputs": [
    {
     "name": "stdout",
     "output_type": "stream",
     "text": [
      "Enter the 4 digit number: 3456\n",
      "6543\n",
      "False\n"
     ]
    }
   ],
   "source": [
    "#Method 1\n",
    "x = int(input(\"Enter the 4 digit number: \"))\n",
    "\n",
    "a = x % 10  # last number\n",
    "num1 = x//10 # first three digits \n",
    "b = num1%10  # get the second last digit\n",
    "num2 = num1//10\n",
    "c = num2%10\n",
    "d = num2//10\n",
    "\n",
    "rev = a*1000 + b*100 + c*10 + d\n",
    "print(rev)\n",
    "if x == rev:\n",
    "    print(True)\n",
    "else:\n",
    "    print(False)"
   ]
  },
  {
   "cell_type": "code",
   "execution_count": 39,
   "id": "09ec9687",
   "metadata": {},
   "outputs": [
    {
     "name": "stdout",
     "output_type": "stream",
     "text": [
      "Enter the 5 digit number:\n",
      "12345\n",
      "The orginal number is: 12345\n",
      "The reversed number is: 54321\n",
      "Is the number a palindrome?: False\n"
     ]
    }
   ],
   "source": [
    "# method 2\n",
    "def reverse_number(number):\n",
    "    reversed_number = 0\n",
    "    for i in range(4,0,-1):\n",
    "        reversed_number += (number % 10)*pow(10, i-1)\n",
    "        number = number//10\n",
    "    return reversed_number\n",
    "\n",
    "def is_palindrome(number):\n",
    "    return number == reverse_number(number)\n",
    "\n",
    "number = int(input(\"Enter the 5 digit number:\\n\"))\n",
    "\n",
    "reversed_number = reverse_number(number)\n",
    "\n",
    "print(\"The orginal number is:\", number)\n",
    "print(\"The reversed number is:\", reversed_number)\n",
    "print(\"Is the number a palindrome?:\", is_palindrome(number))"
   ]
  },
  {
   "cell_type": "markdown",
   "id": "ca575508",
   "metadata": {},
   "source": [
    "#### 5. Write a program to find the euclidean distance between two coordinates"
   ]
  },
  {
   "cell_type": "code",
   "execution_count": 1,
   "id": "8db697af",
   "metadata": {},
   "outputs": [
    {
     "name": "stdout",
     "output_type": "stream",
     "text": [
      "x1: 4\n",
      "y1: 5\n",
      "x2: 6\n",
      "y2: 8\n",
      " = = = = = = = = = = = = = = = = = = = = = = = = = = = = = = = = = = = = = = = = = = = = = = = = = =\n",
      "Eucledian distance for given co-ordinate will be 3.61\n"
     ]
    }
   ],
   "source": [
    "# Method 1\n",
    "import math\n",
    "x1 = float(input(\"x1: \"))\n",
    "y1 = float(input(\"y1: \"))\n",
    "x2 = float(input(\"x2: \"))\n",
    "y2 = float(input(\"y2: \"))\n",
    "\n",
    "x = [x1, y1]\n",
    "y = [x2, y2]\n",
    "\n",
    "print(\" =\"*50)\n",
    "print(\"Eucledian distance for given co-ordinate will be\", round(math.dist(x,y),2))"
   ]
  },
  {
   "cell_type": "code",
   "execution_count": 3,
   "id": "52797586",
   "metadata": {},
   "outputs": [
    {
     "name": "stdout",
     "output_type": "stream",
     "text": [
      "3.605551275463989\n"
     ]
    }
   ],
   "source": [
    "# Method 2\n",
    "import math\n",
    "def euclidean_distance(x1, y1, x2, y2):\n",
    "    \"\"\" Calculate the Euclidean distance between two points\n",
    "    Args:\n",
    "        x1: The x-coordinate of the first point\n",
    "        y1: The y-coordinate of the first point\n",
    "        x2: The x-coordinate of the second point\n",
    "        y2: The y-coordinate of the second point\n",
    "    Returns:\n",
    "        The Euclidean distance between the two points\n",
    "    \"\"\"\n",
    "    distance = math.sqrt((x1-x2)**2 + (y1-y2)**2)\n",
    "    return distance\n",
    "\n",
    "if __name__ == '__main__':\n",
    "    x1, y1,x2,y2 = 4,5,6,8\n",
    "    distance = euclidean_distance(x1,y1,x2,y2)\n",
    "    print(distance)"
   ]
  },
  {
   "cell_type": "markdown",
   "id": "cdac80df",
   "metadata": {},
   "source": [
    "#### 6. Write a program that will tell whether the given number is divisible by 3 & 6."
   ]
  },
  {
   "cell_type": "code",
   "execution_count": 5,
   "id": "3e05936a",
   "metadata": {},
   "outputs": [
    {
     "name": "stdout",
     "output_type": "stream",
     "text": [
      "Enter the number divisible by 3 and 6: \n",
      "18\n",
      "The number 18 is divisible by 3 and 6\n"
     ]
    }
   ],
   "source": [
    "# method 1\n",
    "num = int(input(\"Enter the number divisible by 3 and 6: \\n\"))\n",
    "if (num%3 == 0)and(num%6 == 0):\n",
    "    print(f'The number {num} is divisible by 3 and 6')\n",
    "else:\n",
    "    print(\"The number is not divisble by 3 or 6 \")"
   ]
  },
  {
   "cell_type": "code",
   "execution_count": 9,
   "id": "3e902002",
   "metadata": {},
   "outputs": [
    {
     "name": "stdout",
     "output_type": "stream",
     "text": [
      "Enter the number divisible by 6 and 3: \n",
      "30\n",
      "True\n"
     ]
    }
   ],
   "source": [
    "def is_divisible_by_3and6(number):\n",
    "    \"\"\" Return True if the number is divisible by 6 or 3 otherwise false\"\"\"\n",
    "    if (number % 3 == 0 )and (number % 6 == 0):\n",
    "        return True\n",
    "    else:\n",
    "        return False\n",
    "def main():\n",
    "    num = int(input(\"Enter the number divisible by 6 and 3: \\n\"))\n",
    "    print(is_divisible_by_3and6(num))\n",
    "\n",
    "if __name__=='__main__':\n",
    "    main()"
   ]
  },
  {
   "cell_type": "markdown",
   "id": "e1a3441c",
   "metadata": {},
   "source": [
    "#### 7. Write a program that will take three digits from the user and add the square of each digit"
   ]
  },
  {
   "cell_type": "code",
   "execution_count": 17,
   "id": "fb024ed9",
   "metadata": {},
   "outputs": [
    {
     "name": "stdout",
     "output_type": "stream",
     "text": [
      "Enter your +ve digit: 123\n",
      "You enter 123 and the square sum of the digits is 14\n"
     ]
    }
   ],
   "source": [
    "# mine\n",
    "def add_sqrt(number):\n",
    "    \"\"\"This function add square root of each digit\"\"\"\n",
    "    result = 0\n",
    "    for i in str(num):\n",
    "        result += (int(i))**2\n",
    "    return result\n",
    "\n",
    "if __name__ == '__main__':\n",
    "    num  = int(input(\"Enter your +ve digit: \"))\n",
    "    if num < 0 :\n",
    "        print(\"You enter -ve number\")\n",
    "    else:\n",
    "        print(f'You enter {num} and the square sum of the digits is {add_sqrt(num)}')\n",
    "    "
   ]
  },
  {
   "cell_type": "code",
   "execution_count": 18,
   "id": "6ec1ed3d",
   "metadata": {},
   "outputs": [
    {
     "name": "stdout",
     "output_type": "stream",
     "text": [
      "Enter three digit number: 123\n",
      "14\n"
     ]
    }
   ],
   "source": [
    "# Method 2\n",
    "n=int(input(\"Enter three digit number: \")) #123\n",
    "a=n%10 #3\n",
    "num=n//10 #12\n",
    "b=num%10 #2\n",
    "c=num//10 #1 \n",
    "output_value=(a**2)+(b**2)+(c**2)\n",
    "print(output_value)"
   ]
  },
  {
   "cell_type": "markdown",
   "id": "3d5539a4",
   "metadata": {},
   "source": [
    "#### 8. Write a program that will check whether the number is armstrong number or not.\n",
    "\n",
    "An Armstrong number is one whose sum of digits raised to the power three equals the\n",
    "number itself. 371, for example, is an Armstrong number because `3**3 + 7**3 + 1**3 =\n",
    "371.`"
   ]
  },
  {
   "cell_type": "code",
   "execution_count": 3,
   "id": "b754ff16",
   "metadata": {},
   "outputs": [
    {
     "name": "stdout",
     "output_type": "stream",
     "text": [
      "Enter three digit Armstrong number:371\n",
      "The number 371 is Armstrong number\n"
     ]
    }
   ],
   "source": [
    "# Method 1\n",
    "n = int(input(\"Enter three digit Armstrong number:\"))\n",
    "a = n%10\n",
    "num = n //10\n",
    "b = num%10\n",
    "c = num//10\n",
    "if(a**3 + b**3 + c**3)==n:\n",
    "    print(f\"The number {n} is Armstrong number\")\n",
    "else:\n",
    "    print(f\"The number {n} is not Armstrong number\")"
   ]
  },
  {
   "cell_type": "code",
   "execution_count": 19,
   "id": "9cd383ae",
   "metadata": {},
   "outputs": [
    {
     "name": "stdout",
     "output_type": "stream",
     "text": [
      "371\n",
      "True\n"
     ]
    }
   ],
   "source": [
    "# Method 2\n",
    "def is_armstrong(number):\n",
    "    \"\"\"\n",
    "    Check whether the number is an Armstrong number.\n",
    "    Args:\n",
    "        number: The number to check\n",
    "    Returns:\n",
    "        True if the number is an Armstrong number, False otherwise\n",
    "        \n",
    "    \"\"\"\n",
    "    sum_of_powers = 0\n",
    "    for digit in str(number):\n",
    "        sum_of_powers += int(digit)**len(str(number))\n",
    "    print(sum_of_powers)\n",
    "    return number == sum_of_powers\n",
    "\n",
    "def main():\n",
    "    number = 371\n",
    "    print(is_armstrong(number))\n",
    "    \n",
    "if __name__==\"__main__\":\n",
    "    main()"
   ]
  },
  {
   "cell_type": "code",
   "execution_count": null,
   "id": "8a015286",
   "metadata": {},
   "outputs": [],
   "source": []
  }
 ],
 "metadata": {
  "kernelspec": {
   "display_name": "Python 3.10 (tensorflow)",
   "language": "python",
   "name": "tensorflow"
  },
  "language_info": {
   "codemirror_mode": {
    "name": "ipython",
    "version": 3
   },
   "file_extension": ".py",
   "mimetype": "text/x-python",
   "name": "python",
   "nbconvert_exporter": "python",
   "pygments_lexer": "ipython3",
   "version": "3.10.10"
  }
 },
 "nbformat": 4,
 "nbformat_minor": 5
}
