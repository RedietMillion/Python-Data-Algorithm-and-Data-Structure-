{
 "cells": [
  {
   "cell_type": "markdown",
   "id": "58322c9d",
   "metadata": {},
   "source": [
    "### Problems\n",
    "\n",
    "1. Swap the number without using third varible\n",
    "2. Write a Program to extract each digit from an integer in the reverse order\n",
    "3. Write a program that will give you the sum of 3 digits\n",
    "4. Write a program that will reverse a four digit number.Also it checks whether the reverse is true\n",
    "5. Write a program to find the euclidean distance between two coordinates\n",
    "6. Write a program that will tell whether the given number is divisible by 3 & 6.\n",
    "7. Write a program that will take three digits from the user and add the square of each digit\n",
    "8. Write a program that will check whether the number is armstrong number or not.\n",
    "9. Write a program that will take user input of (4 digits number) and check whether the number is narcissist number or not."
   ]
  },
  {
   "cell_type": "markdown",
   "id": "1b9cfb91",
   "metadata": {},
   "source": [
    "### Solutions"
   ]
  },
  {
   "cell_type": "code",
   "execution_count": 3,
   "id": "c062e931",
   "metadata": {},
   "outputs": [
    {
     "name": "stdout",
     "output_type": "stream",
     "text": [
      "Enter the first no.8\n",
      "Enter the second no.6\n",
      "8 6\n",
      "6 8\n"
     ]
    }
   ],
   "source": [
    "# 1. Swap the number without using third varible\n",
    "# Method 1\n",
    "x = int(input(\"Enter the first no.\"))\n",
    "y = int(input(\"Enter the second no.\"))\n",
    "\n",
    "print(x, y)\n",
    "x = x+y\n",
    "y = x-y\n",
    "x = x-y\n",
    "print(x, y)"
   ]
  },
  {
   "cell_type": "code",
   "execution_count": 4,
   "id": "014eac9f",
   "metadata": {},
   "outputs": [
    {
     "name": "stdout",
     "output_type": "stream",
     "text": [
      "Before swapping:\n",
      "a =  10\n",
      "b =  20\n",
      "After swapping:\n",
      "a =  20\n",
      "b =  10\n"
     ]
    }
   ],
   "source": [
    "# Method 2: using function \n",
    "def swap_numbers(a, b):\n",
    "    \"\"\" Swaps the values of two variables without using a third variable\"\"\"\n",
    "    a += b\n",
    "    b = a-b\n",
    "    a -= b\n",
    "    \n",
    "    return a, b\n",
    "\n",
    "if __name__ == \"__main__\":\n",
    "    a = 10\n",
    "    b = 20\n",
    "    \n",
    "    print(\"Before swapping:\")\n",
    "    print(\"a = \", a)\n",
    "    print(\"b = \", b)\n",
    "    a, b = swap_numbers(a,b)\n",
    "    print(\"After swapping:\")\n",
    "    print(\"a = \", a)\n",
    "    print(\"b = \", b)"
   ]
  },
  {
   "cell_type": "code",
   "execution_count": null,
   "id": "98290bdf",
   "metadata": {},
   "outputs": [],
   "source": []
  }
 ],
 "metadata": {
  "kernelspec": {
   "display_name": "Python 3.10 (tensorflow)",
   "language": "python",
   "name": "tensorflow"
  },
  "language_info": {
   "codemirror_mode": {
    "name": "ipython",
    "version": 3
   },
   "file_extension": ".py",
   "mimetype": "text/x-python",
   "name": "python",
   "nbconvert_exporter": "python",
   "pygments_lexer": "ipython3",
   "version": "3.10.10"
  }
 },
 "nbformat": 4,
 "nbformat_minor": 5
}
