{
 "cells": [
  {
   "cell_type": "markdown",
   "id": "076fbcb6",
   "metadata": {},
   "source": [
    "### Problems\n",
    "\n",
    "1. Swap the number without using third varible\n",
    "2. Write a Program to extract each digit from an integer in the reverse order\n",
    "3. Write a program that will give you the sum of 3 digits\n",
    "4. Write a program that will reverse a four digit number.Also it checks whether the reverse is true\n",
    "5. Write a program to find the euclidean distance between two coordinates\n",
    "6. Write a program that will tell whether the given number is divisible by 3 & 6.\n",
    "7. Write a program that will take three digits from the user and add the square of each digit\n",
    "8. Write a program that will check whether the number is armstrong number or not.\n",
    "9. Write a program that will take user input of (4 digits number) and check whether the number is narcissist number or not."
   ]
  },
  {
   "cell_type": "markdown",
   "id": "3b2a1282",
   "metadata": {},
   "source": [
    "### Solutions\n",
    "1. "
   ]
  },
  {
   "cell_type": "code",
   "execution_count": 3,
   "id": "f092bffe",
   "metadata": {},
   "outputs": [
    {
     "name": "stdout",
     "output_type": "stream",
     "text": [
      "Enter the first no.8\n",
      "Enter the second no.6\n",
      "8 6\n",
      "6 8\n"
     ]
    }
   ],
   "source": [
    "# 1. Swap the number without using third varible\n",
    "# Method 1\n",
    "x = int(input(\"Enter the first no.\"))\n",
    "y = int(input(\"Enter the second no.\"))\n",
    "\n",
    "print(x, y)\n",
    "x = x+y\n",
    "y = x-y\n",
    "x = x-y\n",
    "print(x, y)"
   ]
  },
  {
   "cell_type": "code",
   "execution_count": 4,
   "id": "7fde920c",
   "metadata": {},
   "outputs": [
    {
     "name": "stdout",
     "output_type": "stream",
     "text": [
      "Before swapping:\n",
      "a =  10\n",
      "b =  20\n",
      "After swapping:\n",
      "a =  20\n",
      "b =  10\n"
     ]
    }
   ],
   "source": [
    "# Method 2: using function \n",
    "def swap_numbers(a, b):\n",
    "    \"\"\" Swaps the values of two variables without using a third variable\"\"\"\n",
    "    a += b\n",
    "    b = a-b\n",
    "    a -= b\n",
    "    \n",
    "    return a, b\n",
    "\n",
    "if __name__ == \"__main__\":\n",
    "    a = 10\n",
    "    b = 20\n",
    "    \n",
    "    print(\"Before swapping:\")\n",
    "    print(\"a = \", a)\n",
    "    print(\"b = \", b)\n",
    "    a, b = swap_numbers(a,b)\n",
    "    print(\"After swapping:\")\n",
    "    print(\"a = \", a)\n",
    "    print(\"b = \", b)"
   ]
  },
  {
   "cell_type": "markdown",
   "id": "72d277a4",
   "metadata": {},
   "source": [
    "### 2 Write a Program to extract each digit from an integer in the reverse order\n"
   ]
  },
  {
   "cell_type": "code",
   "execution_count": 9,
   "id": "2cdcf211",
   "metadata": {},
   "outputs": [
    {
     "name": "stdout",
     "output_type": "stream",
     "text": [
      "Enter the number:4561\n",
      "4561 <class 'int'>\n",
      "1654 <class 'int'>\n"
     ]
    }
   ],
   "source": [
    "# Method 1\n",
    "n = int(input(\"Enter the number:\"))\n",
    "rev = int(str(n)[::-1])\n",
    "\n",
    "print(n, type(n))\n",
    "print(rev, type(rev))"
   ]
  },
  {
   "cell_type": "code",
   "execution_count": 19,
   "id": "a305f44a",
   "metadata": {},
   "outputs": [
    {
     "name": "stdout",
     "output_type": "stream",
     "text": [
      "orginal number: 12345\n",
      "reversed number 54321\n"
     ]
    }
   ],
   "source": [
    "# Method 2\n",
    "def reverse_digit(number):\n",
    "    \"\"\" Extract each digit from an integer in the reverse order.\n",
    "    Args:\n",
    "    number: The integer to extract the digits from\n",
    "    Return:\n",
    "    A list of the digits in the integer, in the reverse order\n",
    "    \n",
    "    \"\"\"\n",
    "    digits = \"\"\n",
    "    while number > 0:\n",
    "        digit = number % 10 \n",
    "        digits = digits + str(digit) \n",
    "        number//= 10\n",
    "    return digits \n",
    "\n",
    "if __name__==\"__main__\":\n",
    "    number = 12345\n",
    "    digits = reverse_digit(number)\n",
    "    print('orginal number:', number)\n",
    "    print(\"reversed number\",digits)"
   ]
  },
  {
   "cell_type": "markdown",
   "id": "29d361e2",
   "metadata": {},
   "source": [
    "### 3. Write a program that will give you the sum of 3 digits"
   ]
  },
  {
   "cell_type": "code",
   "execution_count": 20,
   "id": "6763d0d0",
   "metadata": {},
   "outputs": [
    {
     "name": "stdout",
     "output_type": "stream",
     "text": [
      "Enter the three digits123\n",
      "6\n"
     ]
    }
   ],
   "source": [
    "# Method 1\n",
    "x = int(input(\"Enter the three digits\"))\n",
    "\n",
    "# Get the last digit using modulo\n",
    "a = x % 10\n",
    "# using integerdivision by 10 to get the last two dgits \n",
    "num = x//10\n",
    "b = num % 10 \n",
    "c = num//10\n",
    "\n",
    "print(a+b+c)\n"
   ]
  },
  {
   "cell_type": "code",
   "execution_count": 27,
   "id": "40eb74d6",
   "metadata": {},
   "outputs": [],
   "source": [
    "# Method 2: using function\n",
    "def sum_of_three_digits(number):\n",
    "    \"\"\" Calculate the sum of three digits in a number.\n",
    "    Args:\n",
    "        number: The number to calculate the sum of the digits from\n",
    "    Returns: \n",
    "        The sum of the digits in the number\n",
    "    \"\"\"\n",
    "    hundreds_digit = number // 100\n",
    "    tens_digits = number % 100 // 10 \n",
    "    units_digit = number % 10\n",
    "    sum_of_digits = hundreds_digit + tens_digits + units_digit\n",
    "    print(sum_of_digits)\n",
    "    return sum_of_digits\n",
    "\n",
    "if __name__==\"main__\":\n",
    "    \n",
    "    number = 321\n",
    "    print(sum_of_three_digits(number))"
   ]
  },
  {
   "cell_type": "code",
   "execution_count": null,
   "id": "9c195100",
   "metadata": {},
   "outputs": [],
   "source": []
  }
 ],
 "metadata": {
  "kernelspec": {
   "display_name": "Python 3.10 (tensorflow)",
   "language": "python",
   "name": "tensorflow"
  },
  "language_info": {
   "codemirror_mode": {
    "name": "ipython",
    "version": 3
   },
   "file_extension": ".py",
   "mimetype": "text/x-python",
   "name": "python",
   "nbconvert_exporter": "python",
   "pygments_lexer": "ipython3",
   "version": "3.10.10"
  }
 },
 "nbformat": 4,
 "nbformat_minor": 5
}
