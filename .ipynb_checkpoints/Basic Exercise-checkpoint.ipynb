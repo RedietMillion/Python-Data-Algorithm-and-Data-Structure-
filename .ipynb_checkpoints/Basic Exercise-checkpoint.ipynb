{
 "cells": [
  {
   "cell_type": "markdown",
   "id": "43a8ca52",
   "metadata": {},
   "source": [
    "### Problems\n",
    "\n",
    "1. Swap the number without using third varible\n",
    "2. Write a Program to extract each digit from an integer in the reverse order\n",
    "3. Write a program that will give you the sum of 3 digits\n",
    "4. Write a program that will reverse a four digit number.Also it checks whether the reverse is true\n",
    "5. Write a program to find the euclidean distance between two coordinates\n",
    "6. Write a program that will tell whether the given number is divisible by 3 & 6.\n",
    "7. Write a program that will take three digits from the user and add the square of each digit\n",
    "8. Write a program that will check whether the number is armstrong number or not.\n",
    "9. Write a program that will take user input of (4 digits number) and check whether the number is narcissist number or not."
   ]
  },
  {
   "cell_type": "markdown",
   "id": "3c0688b4",
   "metadata": {},
   "source": [
    "### Solutions\n",
    "1. "
   ]
  },
  {
   "cell_type": "code",
   "execution_count": 3,
   "id": "0b12009f",
   "metadata": {},
   "outputs": [
    {
     "name": "stdout",
     "output_type": "stream",
     "text": [
      "Enter the first no.8\n",
      "Enter the second no.6\n",
      "8 6\n",
      "6 8\n"
     ]
    }
   ],
   "source": [
    "# 1. Swap the number without using third varible\n",
    "# Method 1\n",
    "x = int(input(\"Enter the first no.\"))\n",
    "y = int(input(\"Enter the second no.\"))\n",
    "\n",
    "print(x, y)\n",
    "x = x+y\n",
    "y = x-y\n",
    "x = x-y\n",
    "print(x, y)"
   ]
  },
  {
   "cell_type": "code",
   "execution_count": 4,
   "id": "3dd9f363",
   "metadata": {},
   "outputs": [
    {
     "name": "stdout",
     "output_type": "stream",
     "text": [
      "Before swapping:\n",
      "a =  10\n",
      "b =  20\n",
      "After swapping:\n",
      "a =  20\n",
      "b =  10\n"
     ]
    }
   ],
   "source": [
    "# Method 2: using function \n",
    "def swap_numbers(a, b):\n",
    "    \"\"\" Swaps the values of two variables without using a third variable\"\"\"\n",
    "    a += b\n",
    "    b = a-b\n",
    "    a -= b\n",
    "    \n",
    "    return a, b\n",
    "\n",
    "if __name__ == \"__main__\":\n",
    "    a = 10\n",
    "    b = 20\n",
    "    \n",
    "    print(\"Before swapping:\")\n",
    "    print(\"a = \", a)\n",
    "    print(\"b = \", b)\n",
    "    a, b = swap_numbers(a,b)\n",
    "    print(\"After swapping:\")\n",
    "    print(\"a = \", a)\n",
    "    print(\"b = \", b)"
   ]
  },
  {
   "cell_type": "markdown",
   "id": "b0a9eda6",
   "metadata": {},
   "source": [
    "### 2 Write a Program to extract each digit from an integer in the reverse order\n"
   ]
  },
  {
   "cell_type": "code",
   "execution_count": 9,
   "id": "9d264830",
   "metadata": {},
   "outputs": [
    {
     "name": "stdout",
     "output_type": "stream",
     "text": [
      "Enter the number:4561\n",
      "4561 <class 'int'>\n",
      "1654 <class 'int'>\n"
     ]
    }
   ],
   "source": [
    "# Method 1\n",
    "n = int(input(\"Enter the number:\"))\n",
    "rev = int(str(n)[::-1])\n",
    "\n",
    "print(n, type(n))\n",
    "print(rev, type(rev))"
   ]
  },
  {
   "cell_type": "code",
   "execution_count": 19,
   "id": "53c229aa",
   "metadata": {},
   "outputs": [
    {
     "name": "stdout",
     "output_type": "stream",
     "text": [
      "orginal number: 12345\n",
      "reversed number 54321\n"
     ]
    }
   ],
   "source": [
    "# Method 2\n",
    "def reverse_digit(number):\n",
    "    \"\"\" Extract each digit from an integer in the reverse order.\n",
    "    Args:\n",
    "    number: The integer to extract the digits from\n",
    "    Return:\n",
    "    A list of the digits in the integer, in the reverse order\n",
    "    \n",
    "    \"\"\"\n",
    "    digits = \"\"\n",
    "    while number > 0:\n",
    "        digit = number % 10 \n",
    "        digits = digits + str(digit) \n",
    "        number//= 10\n",
    "    return digits \n",
    "\n",
    "if __name__==\"__main__\":\n",
    "    number = 12345\n",
    "    digits = reverse_digit(number)\n",
    "    print('orginal number:', number)\n",
    "    print(\"reversed number\",digits)"
   ]
  },
  {
   "cell_type": "code",
   "execution_count": null,
   "id": "681a8187",
   "metadata": {},
   "outputs": [],
   "source": []
  }
 ],
 "metadata": {
  "kernelspec": {
   "display_name": "Python 3.10 (tensorflow)",
   "language": "python",
   "name": "tensorflow"
  },
  "language_info": {
   "codemirror_mode": {
    "name": "ipython",
    "version": 3
   },
   "file_extension": ".py",
   "mimetype": "text/x-python",
   "name": "python",
   "nbconvert_exporter": "python",
   "pygments_lexer": "ipython3",
   "version": "3.10.10"
  }
 },
 "nbformat": 4,
 "nbformat_minor": 5
}
