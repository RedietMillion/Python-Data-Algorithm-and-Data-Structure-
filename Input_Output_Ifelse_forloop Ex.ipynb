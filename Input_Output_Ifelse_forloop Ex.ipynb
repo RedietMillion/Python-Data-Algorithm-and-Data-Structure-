{
 "cells": [
  {
   "cell_type": "markdown",
   "id": "85ed33a0",
   "metadata": {},
   "source": [
    "#### 1. Print all factors of a given number provided by the user.\n"
   ]
  },
  {
   "cell_type": "code",
   "execution_count": 2,
   "id": "49560d6e",
   "metadata": {},
   "outputs": [
    {
     "name": "stdout",
     "output_type": "stream",
     "text": [
      "Enter the number: 34\n",
      "1\n",
      "2\n",
      "17\n",
      "34\n"
     ]
    }
   ],
   "source": [
    "# Method 1\n",
    "n = int(input(\"Enter the number: \"))\n",
    "for i in range(1, n+1):\n",
    "    if n%i == 0 :\n",
    "        print(i, end = \"\\n\")"
   ]
  },
  {
   "cell_type": "markdown",
   "id": "6bfd38f2",
   "metadata": {},
   "source": [
    "#### 2. Accept a list of 5 float numbers as an input from the user"
   ]
  },
  {
   "cell_type": "code",
   "execution_count": 3,
   "id": "a589edba",
   "metadata": {},
   "outputs": [
    {
     "name": "stdout",
     "output_type": "stream",
     "text": [
      "Enter a float number: 43.21\n",
      "Enter a float number: 231.4\n",
      "Enter a float number: 32\n",
      "Enter a float number: 124.93\n",
      "Enter a float number: -23.3\n",
      "The float list is: [43.21, 231.4, 32.0, 124.93, -23.3]\n"
     ]
    }
   ],
   "source": [
    "def get_float_list():\n",
    "    \"\"\"\n",
    "    Gets a list of 5 float numbers as an input from the user\n",
    "    Returns:\n",
    "        A list of 5 float numbers.\n",
    "    \"\"\"\n",
    "    float_list = []\n",
    "    for _ in range(5):\n",
    "        float_value = float(input(\"Enter a float number: \"))\n",
    "        float_list.append(float_value)\n",
    "    return float_list\n",
    "\n",
    "def main():\n",
    "    \n",
    "    float_list = get_float_list()\n",
    "    print(\"The float list is:\", float_list)\n",
    "    \n",
    "if __name__ == \"__main__\":\n",
    "    main()"
   ]
  },
  {
   "cell_type": "markdown",
   "id": "e645d1f5",
   "metadata": {},
   "source": [
    "#### 3. Write all content of a given file into a new file by skipping line number 5"
   ]
  },
  {
   "cell_type": "code",
   "execution_count": 1,
   "id": "33ef58f1",
   "metadata": {},
   "outputs": [
    {
     "name": "stdout",
     "output_type": "stream",
     "text": [
      "7\n"
     ]
    }
   ],
   "source": [
    "# Read input file\n",
    "with open(\"input_file.txt\", 'r') as fp:\n",
    "    #read all the lines from the file\n",
    "    lines = fp.readlines()\n",
    "# open new file to write mode\n",
    "with open (\"output_file.txt\", \"w\") as fp:\n",
    "    count = 0 \n",
    "    for line in lines:\n",
    "        if count == 4:\n",
    "            count += 1\n",
    "            continue\n",
    "        else:\n",
    "            fp.write(line)\n",
    "        count+=1\n",
    "print(count)"
   ]
  },
  {
   "cell_type": "markdown",
   "id": "7b76b486",
   "metadata": {},
   "source": [
    "#### 4. Print the sum of the current number and the previous number Write a program to iterate the first 10 numbers and in each iteration, print the sum of the current and previous number."
   ]
  },
  {
   "cell_type": "code",
   "execution_count": 2,
   "id": "41d1bf3c",
   "metadata": {},
   "outputs": [
    {
     "name": "stdout",
     "output_type": "stream",
     "text": [
      "1 3 5 7 9 11 13 15 17 19 "
     ]
    }
   ],
   "source": [
    "prev_num = 0 \n",
    "for i in range(1, 11):\n",
    "    current_prev = i + prev_num\n",
    "    prev_num = i\n",
    "    print(current_prev, end = \" \")"
   ]
  },
  {
   "cell_type": "markdown",
   "id": "87d88e49",
   "metadata": {},
   "source": [
    "#### 5. Check Palindrome Number Write a program to check if the given number is a palindrome number."
   ]
  },
  {
   "cell_type": "code",
   "execution_count": 6,
   "id": "a2aae047",
   "metadata": {},
   "outputs": [
    {
     "name": "stdout",
     "output_type": "stream",
     "text": [
      "Enter the number to check palindronity 121\n",
      "The given number 121 is Palindrom\n"
     ]
    }
   ],
   "source": [
    "num = int(input(\"Enter the number to check palindronity \"))\n",
    "rev_num = str(num)[::-1]\n",
    "\n",
    "if num == int(rev_num) :\n",
    "    print(f\"The given number {num} is Palindrom\")\n",
    "else:\n",
    "    print(f\"The given number {num} is not a Palindrom\")"
   ]
  },
  {
   "cell_type": "markdown",
   "id": "d7445e8d",
   "metadata": {},
   "source": [
    "#### 6. Create a new list from a two list using the following condition Given a two list of numbers, write a program to create a new list such that the new list should contain odd numbers from the first list and even numbers from the second list."
   ]
  },
  {
   "cell_type": "code",
   "execution_count": 7,
   "id": "b626a7e2",
   "metadata": {},
   "outputs": [
    {
     "name": "stdout",
     "output_type": "stream",
     "text": [
      "[1, 3, 5, 6, 8, 10]\n"
     ]
    }
   ],
   "source": [
    "list1 = [1,2,3,4,5]\n",
    "list2 = [6,7,8,9,10]\n",
    "new_list = []\n",
    "for li in list1:\n",
    "    if li%2 != 0:\n",
    "        new_list.append(li)\n",
    "for li in list2:\n",
    "    if li%2 == 0:\n",
    "        new_list.append(li)\n",
    "\n",
    "print(new_list)"
   ]
  },
  {
   "cell_type": "markdown",
   "id": "4fb74edd",
   "metadata": {},
   "source": [
    "#### 7. Print multiplication table form 1 to 10"
   ]
  },
  {
   "cell_type": "code",
   "execution_count": 11,
   "id": "afb41244",
   "metadata": {},
   "outputs": [
    {
     "name": "stdout",
     "output_type": "stream",
     "text": [
      "1 2 3 4 5 6 7 8 9 10 \n",
      "\n",
      "2 4 6 8 10 12 14 16 18 20 \n",
      "\n",
      "3 6 9 12 15 18 21 24 27 30 \n",
      "\n",
      "4 8 12 16 20 24 28 32 36 40 \n",
      "\n",
      "5 10 15 20 25 30 35 40 45 50 \n",
      "\n",
      "6 12 18 24 30 36 42 48 54 60 \n",
      "\n",
      "7 14 21 28 35 42 49 56 63 70 \n",
      "\n",
      "8 16 24 32 40 48 56 64 72 80 \n",
      "\n",
      "9 18 27 36 45 54 63 72 81 90 \n",
      "\n",
      "10 20 30 40 50 60 70 80 90 100 \n",
      "\n"
     ]
    }
   ],
   "source": [
    "for i in range(1, 11):\n",
    "    for j in range(1, 11):\n",
    "        print(i*j, end = \" \")\n",
    "    print(\"\\n\")"
   ]
  },
  {
   "cell_type": "code",
   "execution_count": null,
   "id": "898b348a",
   "metadata": {},
   "outputs": [],
   "source": []
  }
 ],
 "metadata": {
  "kernelspec": {
   "display_name": "Python 3.10 (tensorflow)",
   "language": "python",
   "name": "tensorflow"
  },
  "language_info": {
   "codemirror_mode": {
    "name": "ipython",
    "version": 3
   },
   "file_extension": ".py",
   "mimetype": "text/x-python",
   "name": "python",
   "nbconvert_exporter": "python",
   "pygments_lexer": "ipython3",
   "version": "3.10.10"
  }
 },
 "nbformat": 4,
 "nbformat_minor": 5
}
