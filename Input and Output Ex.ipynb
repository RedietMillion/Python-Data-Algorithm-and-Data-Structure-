{
 "cells": [
  {
   "cell_type": "markdown",
   "id": "85ed33a0",
   "metadata": {},
   "source": [
    "#### 1. Print all factors of a given number provided by the user.\n"
   ]
  },
  {
   "cell_type": "code",
   "execution_count": 2,
   "id": "49560d6e",
   "metadata": {},
   "outputs": [
    {
     "name": "stdout",
     "output_type": "stream",
     "text": [
      "Enter the number: 34\n",
      "1\n",
      "2\n",
      "17\n",
      "34\n"
     ]
    }
   ],
   "source": [
    "# Method 1\n",
    "n = int(input(\"Enter the number: \"))\n",
    "for i in range(1, n+1):\n",
    "    if n%i == 0 :\n",
    "        print(i, end = \"\\n\")"
   ]
  },
  {
   "cell_type": "markdown",
   "id": "6bfd38f2",
   "metadata": {},
   "source": [
    "#### 2. Accept a list of 5 float numbers as an input from the user"
   ]
  },
  {
   "cell_type": "code",
   "execution_count": 3,
   "id": "a589edba",
   "metadata": {},
   "outputs": [
    {
     "name": "stdout",
     "output_type": "stream",
     "text": [
      "Enter a float number: 43.21\n",
      "Enter a float number: 231.4\n",
      "Enter a float number: 32\n",
      "Enter a float number: 124.93\n",
      "Enter a float number: -23.3\n",
      "The float list is: [43.21, 231.4, 32.0, 124.93, -23.3]\n"
     ]
    }
   ],
   "source": [
    "def get_float_list():\n",
    "    \"\"\"\n",
    "    Gets a list of 5 float numbers as an input from the user\n",
    "    Returns:\n",
    "        A list of 5 float numbers.\n",
    "    \"\"\"\n",
    "    float_list = []\n",
    "    for _ in range(5):\n",
    "        float_value = float(input(\"Enter a float number: \"))\n",
    "        float_list.append(float_value)\n",
    "    return float_list\n",
    "\n",
    "def main():\n",
    "    \n",
    "    float_list = get_float_list()\n",
    "    print(\"The float list is:\", float_list)\n",
    "    \n",
    "if __name__ == \"__main__\":\n",
    "    main()"
   ]
  },
  {
   "cell_type": "code",
   "execution_count": null,
   "id": "91a9ba5b",
   "metadata": {},
   "outputs": [],
   "source": []
  }
 ],
 "metadata": {
  "kernelspec": {
   "display_name": "Python 3.10 (tensorflow)",
   "language": "python",
   "name": "tensorflow"
  },
  "language_info": {
   "codemirror_mode": {
    "name": "ipython",
    "version": 3
   },
   "file_extension": ".py",
   "mimetype": "text/x-python",
   "name": "python",
   "nbconvert_exporter": "python",
   "pygments_lexer": "ipython3",
   "version": "3.10.10"
  }
 },
 "nbformat": 4,
 "nbformat_minor": 5
}
